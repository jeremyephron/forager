{
 "cells": [
  {
   "cell_type": "markdown",
   "metadata": {},
   "source": [
    "# Performance Tests"
   ]
  },
  {
   "cell_type": "code",
   "execution_count": 1,
   "metadata": {},
   "outputs": [],
   "source": [
    "%load_ext autoreload\n",
    "%autoreload 2"
   ]
  },
  {
   "cell_type": "code",
   "execution_count": 2,
   "metadata": {},
   "outputs": [],
   "source": [
    "import time\n",
    "\n",
    "import matplotlib.pyplot as plt\n",
    "import numpy as np\n",
    "\n",
    "from interactive_index import InteractiveIndex"
   ]
  },
  {
   "cell_type": "markdown",
   "metadata": {},
   "source": [
    "## Load LVIS Embeddings"
   ]
  },
  {
   "cell_type": "code",
   "execution_count": 3,
   "metadata": {},
   "outputs": [],
   "source": [
    "embeddings = np.load(\"lvis-embeddings.npy\", allow_pickle=True).item()\n",
    "image_fnames = list(embeddings.keys())\n",
    "res1024_embs = np.array([embeddings[img]['res4'] for img in image_fnames]).squeeze()\n",
    "res2048_embs = np.array([embeddings[img]['res5'] for img in image_fnames]).squeeze()\n",
    "\n",
    "assert res1024_embs.shape == (len(image_fnames), 1024)\n",
    "assert res2048_embs.shape == (len(image_fnames), 2048)"
   ]
  },
  {
   "cell_type": "markdown",
   "metadata": {},
   "source": [
    "## Create Two Indexes\n",
    "\n",
    "We're going to need to be creating these indexes a lot, so let's write a convenience function for it."
   ]
  },
  {
   "cell_type": "code",
   "execution_count": 4,
   "metadata": {},
   "outputs": [],
   "source": [
    "def create_indexes(d0=1024, d1=2048, n_centroids=512, vectors_per_index=len(image_fnames) // 8):\n",
    "    index0 = InteractiveIndex(\n",
    "        d=d0, n_centroids=n_centroids, vectors_per_index=vectors_per_index, tempdir='/tmp/idx0'\n",
    "    )\n",
    "    \n",
    "    index1 = InteractiveIndex(\n",
    "        d=d1, n_centroids=n_centroids, vectors_per_index=vectors_per_index, tempdir='/tmp/idx1'\n",
    "    )\n",
    "    \n",
    "    return index0, index1"
   ]
  },
  {
   "cell_type": "markdown",
   "metadata": {},
   "source": [
    "## Speedup vs. Accuracy Varying Number of Probes"
   ]
  },
  {
   "cell_type": "code",
   "execution_count": 12,
   "metadata": {},
   "outputs": [],
   "source": [
    "index_1024, index_2048 = create_indexes()"
   ]
  },
  {
   "cell_type": "markdown",
   "metadata": {},
   "source": [
    "### Train the indexes"
   ]
  },
  {
   "cell_type": "code",
   "execution_count": 13,
   "metadata": {},
   "outputs": [
    {
     "name": "stdout",
     "output_type": "stream",
     "text": [
      "Training index_1024 on 20000 vectors for 512 clusters took 0.945 seconds\n",
      "Training index_2048 on 20000 vectors for 512 clusters took 1.65 seconds\n"
     ]
    }
   ],
   "source": [
    "n_train = 20_000\n",
    "start = time.time()\n",
    "index_1024.train(res1024_embs[:n_train])\n",
    "end = time.time()\n",
    "print(f'Training index_1024 on {n_train} vectors for {index_1024.n_centroids} clusters took {end - start:.3} seconds')\n",
    "\n",
    "start = time.time()\n",
    "index_2048.train(res2048_embs[:n_train])\n",
    "end = time.time()\n",
    "print(f'Training index_2048 on {n_train} vectors for {index_2048.n_centroids} clusters took {end - start:.3} seconds')"
   ]
  },
  {
   "cell_type": "markdown",
   "metadata": {},
   "source": [
    "## Add all vectors\n",
    "\n",
    "To be within the memory space of our gpu, let's add in batches of vectors_per_index."
   ]
  },
  {
   "cell_type": "code",
   "execution_count": 14,
   "metadata": {},
   "outputs": [
    {
     "name": "stdout",
     "output_type": "stream",
     "text": [
      "Adding 40922, 1024-D vectors to index_1024 with 512 clusters took 1.64 seconds\n",
      "Adding 40922, 1024-D vectors to index_1024 with 512 clusters took 1.52 seconds\n",
      "Adding 40922, 1024-D vectors to index_1024 with 512 clusters took 1.54 seconds\n",
      "Adding 40922, 1024-D vectors to index_1024 with 512 clusters took 1.54 seconds\n",
      "Adding 40922, 2048-D vectors to index_2048 with 512 clusters took 2.82 seconds\n",
      "Adding 40922, 2048-D vectors to index_2048 with 512 clusters took 2.83 seconds\n",
      "Adding 40922, 2048-D vectors to index_2048 with 512 clusters took 2.82 seconds\n",
      "Adding 40922, 2048-D vectors to index_2048 with 512 clusters took 2.83 seconds\n"
     ]
    }
   ],
   "source": [
    "inc = 2 * index_1024.vectors_per_index\n",
    "\n",
    "for i in range(len(image_fnames) // inc):\n",
    "    start = time.time()\n",
    "    index_1024.add(res1024_embs[i * inc:(i + 1) * inc])\n",
    "    end = time.time()\n",
    "    print(f'Adding {inc}, 1024-D vectors to index_1024 with {index_1024.n_centroids} clusters took {end - start:.3} seconds')\n",
    "\n",
    "for i in range(len(image_fnames) // inc):\n",
    "    start = time.time()\n",
    "    index_2048.add(res2048_embs[i * inc:(i + 1) * inc])\n",
    "    end = time.time()\n",
    "    print(f'Adding {inc}, 2048-D vectors to index_2048 with {index_2048.n_centroids} clusters took {end - start:.3} seconds')"
   ]
  },
  {
   "cell_type": "code",
   "execution_count": 16,
   "metadata": {},
   "outputs": [
    {
     "name": "stdout",
     "output_type": "stream",
     "text": [
      "d=1024: Merging 8 partial indexes with 163688 vectors took 0.367 seconds\n",
      "d=2048: Merging 8 partial indexes with 163688 vectors took 1.03 seconds\n"
     ]
    }
   ],
   "source": [
    "# merge the partial indexes before searching\n",
    "start = time.time()\n",
    "index_1024.merge_partial_indexes()\n",
    "end = time.time()\n",
    "print(f'd=1024: Merging {index_1024.n_indexes} partial indexes with {index_1024.n_vectors} vectors took {end - start:.3} seconds')\n",
    "\n",
    "start = time.time()\n",
    "index_2048.merge_partial_indexes()\n",
    "end = time.time()\n",
    "print(f'd=2048: Merging {index_2048.n_indexes} partial indexes with {index_2048.n_vectors} vectors took {end - start:.3} seconds')\n"
   ]
  },
  {
   "cell_type": "markdown",
   "metadata": {},
   "source": [
    "## Get Ground-Truth for Accuracy\n",
    "\n",
    "Since all the vectors are stored in full for these indexes, we can get the precise nearest neighbors by setting `n_probes` to the number of clusters."
   ]
  },
  {
   "cell_type": "code",
   "execution_count": 15,
   "metadata": {},
   "outputs": [],
   "source": [
    "# Pick 50 random embeddings\n",
    "n_xq = 50\n",
    "xq_1024 = res1024_embs[np.random.choice(np.arange(res1024_embs.shape[0]), n_xq)]\n",
    "xq_2048 = res2048_embs[np.random.choice(np.arange(res2048_embs.shape[0]), n_xq)]"
   ]
  },
  {
   "cell_type": "code",
   "execution_count": 23,
   "metadata": {},
   "outputs": [
    {
     "name": "stdout",
     "output_type": "stream",
     "text": [
      "d=1024: Querying the 100 nearest neighbors of 50 points across all centroids took 9.87 seconds\n",
      "d=2048: Querying the 100 nearest neighbors of 50 points across all centroids took 19.0 seconds\n"
     ]
    }
   ],
   "source": [
    "# Get the 100 nearest neighbors\n",
    "k = 100\n",
    "\n",
    "start = time.time()\n",
    "dists_1024, inds_1024 = index_1024.query(xq_1024, k=k, n_probes=index_1024.n_centroids)\n",
    "end = time.time()\n",
    "print(f'd=1024: Querying the {k} nearest neighbors of {n_xq} points across all centroids took {end - start:.3} seconds')\n",
    "\n",
    "start = time.time()\n",
    "dists_2048, inds_2048 = index_2048.query(xq_2048, k=k, n_probes=index_2048.n_centroids)\n",
    "end = time.time()\n",
    "print(f'd=2048: Querying the {k} nearest neighbors of {n_xq} points across all centroids took {end - start:.3} seconds')\n"
   ]
  },
  {
   "cell_type": "code",
   "execution_count": 29,
   "metadata": {
    "scrolled": true
   },
   "outputs": [
    {
     "name": "stdout",
     "output_type": "stream",
     "text": [
      "n_probes=512: 9.82 seconds\n",
      "n_probes=508: 10.0 seconds\n",
      "n_probes=504: 9.96 seconds\n",
      "n_probes=500: 9.89 seconds\n",
      "n_probes=496: 10.0 seconds\n",
      "n_probes=492: 9.9 seconds\n",
      "n_probes=488: 9.88 seconds\n",
      "n_probes=484: 9.8 seconds\n",
      "n_probes=480: 9.9 seconds\n",
      "n_probes=476: 9.74 seconds\n",
      "n_probes=472: 9.77 seconds\n",
      "n_probes=468: 9.82 seconds\n",
      "n_probes=464: 9.8 seconds\n",
      "n_probes=460: 9.74 seconds\n",
      "n_probes=456: 9.63 seconds\n",
      "n_probes=452: 9.62 seconds\n",
      "n_probes=448: 9.61 seconds\n",
      "n_probes=444: 9.57 seconds\n",
      "n_probes=440: 9.58 seconds\n",
      "n_probes=436: 9.4 seconds\n",
      "n_probes=432: 9.41 seconds\n",
      "n_probes=428: 9.39 seconds\n",
      "n_probes=424: 9.38 seconds\n",
      "n_probes=420: 9.19 seconds\n",
      "n_probes=416: 9.18 seconds\n",
      "n_probes=412: 9.18 seconds\n",
      "n_probes=408: 9.08 seconds\n",
      "n_probes=404: 9.0 seconds\n",
      "n_probes=400: 9.04 seconds\n",
      "n_probes=396: 9.04 seconds\n",
      "n_probes=392: 8.87 seconds\n",
      "n_probes=388: 8.91 seconds\n",
      "n_probes=384: 8.91 seconds\n",
      "n_probes=380: 8.69 seconds\n",
      "n_probes=376: 8.76 seconds\n",
      "n_probes=372: 8.53 seconds\n",
      "n_probes=368: 8.58 seconds\n",
      "n_probes=364: 8.45 seconds\n",
      "n_probes=360: 8.43 seconds\n",
      "n_probes=356: 8.43 seconds\n",
      "n_probes=352: 8.39 seconds\n",
      "n_probes=348: 8.31 seconds\n",
      "n_probes=344: 8.12 seconds\n",
      "n_probes=340: 8.05 seconds\n",
      "n_probes=336: 8.01 seconds\n",
      "n_probes=332: 7.97 seconds\n",
      "n_probes=328: 7.84 seconds\n",
      "n_probes=324: 7.86 seconds\n",
      "n_probes=320: 7.8 seconds\n",
      "n_probes=316: 7.63 seconds\n",
      "n_probes=312: 7.65 seconds\n",
      "n_probes=308: 7.47 seconds\n",
      "n_probes=304: 7.35 seconds\n",
      "n_probes=300: 7.39 seconds\n",
      "n_probes=296: 7.24 seconds\n",
      "n_probes=292: 7.22 seconds\n",
      "n_probes=288: 7.16 seconds\n",
      "n_probes=284: 7.01 seconds\n",
      "n_probes=280: 6.98 seconds\n",
      "n_probes=276: 6.89 seconds\n",
      "n_probes=272: 6.73 seconds\n",
      "n_probes=268: 6.68 seconds\n",
      "n_probes=264: 6.61 seconds\n",
      "n_probes=260: 6.56 seconds\n",
      "n_probes=256: 6.46 seconds\n",
      "n_probes=252: 6.4 seconds\n",
      "n_probes=248: 6.27 seconds\n",
      "n_probes=244: 6.16 seconds\n",
      "n_probes=240: 6.07 seconds\n",
      "n_probes=236: 6.05 seconds\n",
      "n_probes=232: 5.95 seconds\n",
      "n_probes=228: 5.82 seconds\n",
      "n_probes=224: 5.73 seconds\n",
      "n_probes=220: 5.68 seconds\n",
      "n_probes=216: 5.61 seconds\n",
      "n_probes=212: 5.44 seconds\n",
      "n_probes=208: 5.38 seconds\n",
      "n_probes=204: 5.35 seconds\n",
      "n_probes=200: 5.25 seconds\n",
      "n_probes=196: 5.12 seconds\n",
      "n_probes=192: 5.05 seconds\n",
      "n_probes=188: 4.86 seconds\n",
      "n_probes=184: 4.84 seconds\n",
      "n_probes=180: 4.81 seconds\n",
      "n_probes=176: 4.66 seconds\n",
      "n_probes=172: 4.52 seconds\n",
      "n_probes=168: 4.51 seconds\n",
      "n_probes=164: 4.41 seconds\n",
      "n_probes=160: 4.28 seconds\n",
      "n_probes=156: 4.15 seconds\n",
      "n_probes=152: 4.06 seconds\n",
      "n_probes=148: 3.99 seconds\n",
      "n_probes=144: 3.85 seconds\n",
      "n_probes=140: 3.82 seconds\n",
      "n_probes=136: 3.65 seconds\n",
      "n_probes=132: 3.61 seconds\n",
      "n_probes=128: 3.49 seconds\n",
      "n_probes=124: 3.39 seconds\n",
      "n_probes=120: 3.29 seconds\n",
      "n_probes=116: 3.16 seconds\n",
      "n_probes=112: 3.03 seconds\n",
      "n_probes=108: 2.95 seconds\n",
      "n_probes=104: 2.85 seconds\n",
      "n_probes=100: 2.79 seconds\n",
      "n_probes=96: 2.68 seconds\n",
      "n_probes=92: 2.59 seconds\n",
      "n_probes=88: 2.49 seconds\n",
      "n_probes=84: 2.4 seconds\n",
      "n_probes=80: 2.26 seconds\n",
      "n_probes=76: 2.19 seconds\n",
      "n_probes=72: 2.05 seconds\n",
      "n_probes=68: 1.96 seconds\n",
      "n_probes=64: 1.85 seconds\n",
      "n_probes=60: 1.73 seconds\n",
      "n_probes=56: 1.62 seconds\n",
      "n_probes=52: 1.5 seconds\n",
      "n_probes=48: 1.41 seconds\n",
      "n_probes=44: 1.28 seconds\n",
      "n_probes=40: 1.2 seconds\n",
      "n_probes=36: 1.06 seconds\n",
      "n_probes=32: 0.947 seconds\n",
      "n_probes=28: 0.861 seconds\n",
      "n_probes=24: 0.757 seconds\n",
      "n_probes=20: 0.646 seconds\n",
      "n_probes=16: 0.518 seconds\n",
      "n_probes=12: 0.4 seconds\n",
      "n_probes=8: 0.271 seconds\n",
      "n_probes=4: 0.147 seconds\n"
     ]
    }
   ],
   "source": [
    "max_n_probes = index_1024.n_centroids\n",
    "\n",
    "times_1024 = np.empty(max_n_probes//4)\n",
    "avg_recall_pct_1024 = np.empty(max_n_probes//4)\n",
    "avg_dist_1024 = np.empty(max_n_probes//4)\n",
    "\n",
    "for n_probes in range(max_n_probes, 0, -4):\n",
    "    start = time.time()\n",
    "    dists, inds = index_1024.query(xq_1024, k=k, n_probes=n_probes)\n",
    "    end = time.time()\n",
    "    print(f'n_probes={n_probes}: {end-start:.3} seconds')\n",
    "    \n",
    "    times_1024[n_probes//4 - 1] = end - start\n",
    "    avg_dist_1024[n_probes//4 - 1] = dists.mean()\n",
    "    \n",
    "    recall_pcts = 0\n",
    "    for i in range(len(inds)):\n",
    "        recall_pcts += len(set(inds[i]) & set(inds_1024[i])) / k\n",
    "    \n",
    "    avg_recall_pct_1024[n_probes//4 - 1] = recall_pcts / len(inds)\n"
   ]
  },
  {
   "cell_type": "code",
   "execution_count": 30,
   "metadata": {
    "collapsed": true
   },
   "outputs": [
    {
     "name": "stdout",
     "output_type": "stream",
     "text": [
      "n_probes=512: 19.7 seconds\n",
      "n_probes=508: 19.8 seconds\n",
      "n_probes=504: 19.7 seconds\n",
      "n_probes=500: 19.5 seconds\n",
      "n_probes=496: 19.6 seconds\n",
      "n_probes=492: 19.7 seconds\n",
      "n_probes=488: 19.7 seconds\n",
      "n_probes=484: 19.3 seconds\n",
      "n_probes=480: 19.5 seconds\n",
      "n_probes=476: 19.5 seconds\n",
      "n_probes=472: 19.2 seconds\n",
      "n_probes=468: 19.3 seconds\n",
      "n_probes=464: 19.2 seconds\n",
      "n_probes=460: 19.0 seconds\n",
      "n_probes=456: 19.1 seconds\n",
      "n_probes=452: 18.8 seconds\n",
      "n_probes=448: 18.8 seconds\n",
      "n_probes=444: 18.6 seconds\n",
      "n_probes=440: 18.8 seconds\n",
      "n_probes=436: 18.7 seconds\n",
      "n_probes=432: 18.7 seconds\n",
      "n_probes=428: 18.6 seconds\n",
      "n_probes=424: 18.6 seconds\n",
      "n_probes=420: 18.2 seconds\n",
      "n_probes=416: 18.1 seconds\n",
      "n_probes=412: 18.3 seconds\n",
      "n_probes=408: 17.9 seconds\n",
      "n_probes=404: 17.7 seconds\n",
      "n_probes=400: 17.7 seconds\n",
      "n_probes=396: 17.6 seconds\n",
      "n_probes=392: 17.8 seconds\n",
      "n_probes=388: 17.6 seconds\n",
      "n_probes=384: 17.6 seconds\n",
      "n_probes=380: 17.4 seconds\n",
      "n_probes=376: 17.3 seconds\n",
      "n_probes=372: 17.1 seconds\n",
      "n_probes=368: 17.1 seconds\n",
      "n_probes=364: 16.9 seconds\n",
      "n_probes=360: 16.6 seconds\n",
      "n_probes=356: 16.7 seconds\n",
      "n_probes=352: 16.4 seconds\n",
      "n_probes=348: 16.4 seconds\n",
      "n_probes=344: 16.3 seconds\n",
      "n_probes=340: 16.2 seconds\n",
      "n_probes=336: 16.0 seconds\n",
      "n_probes=332: 15.8 seconds\n",
      "n_probes=328: 15.7 seconds\n",
      "n_probes=324: 15.4 seconds\n",
      "n_probes=320: 15.4 seconds\n",
      "n_probes=316: 15.2 seconds\n",
      "n_probes=312: 15.1 seconds\n",
      "n_probes=308: 15.0 seconds\n",
      "n_probes=304: 14.6 seconds\n",
      "n_probes=300: 14.5 seconds\n",
      "n_probes=296: 14.4 seconds\n",
      "n_probes=292: 14.1 seconds\n",
      "n_probes=288: 14.1 seconds\n",
      "n_probes=284: 14.0 seconds\n",
      "n_probes=280: 13.8 seconds\n",
      "n_probes=276: 13.6 seconds\n",
      "n_probes=272: 13.5 seconds\n",
      "n_probes=268: 13.3 seconds\n",
      "n_probes=264: 13.1 seconds\n",
      "n_probes=260: 12.9 seconds\n",
      "n_probes=256: 12.8 seconds\n",
      "n_probes=252: 12.6 seconds\n",
      "n_probes=248: 12.5 seconds\n",
      "n_probes=244: 12.3 seconds\n",
      "n_probes=240: 12.0 seconds\n",
      "n_probes=236: 11.9 seconds\n",
      "n_probes=232: 11.7 seconds\n",
      "n_probes=228: 11.6 seconds\n",
      "n_probes=224: 11.4 seconds\n",
      "n_probes=220: 11.2 seconds\n",
      "n_probes=216: 11.0 seconds\n",
      "n_probes=212: 10.8 seconds\n",
      "n_probes=208: 10.6 seconds\n",
      "n_probes=204: 10.4 seconds\n",
      "n_probes=200: 10.1 seconds\n",
      "n_probes=196: 9.95 seconds\n",
      "n_probes=192: 9.72 seconds\n",
      "n_probes=188: 9.7 seconds\n",
      "n_probes=184: 9.49 seconds\n",
      "n_probes=180: 9.3 seconds\n",
      "n_probes=176: 9.22 seconds\n",
      "n_probes=172: 8.96 seconds\n",
      "n_probes=168: 8.67 seconds\n",
      "n_probes=164: 8.52 seconds\n",
      "n_probes=160: 8.38 seconds\n",
      "n_probes=156: 8.17 seconds\n",
      "n_probes=152: 7.89 seconds\n",
      "n_probes=148: 7.77 seconds\n",
      "n_probes=144: 7.57 seconds\n",
      "n_probes=140: 7.37 seconds\n",
      "n_probes=136: 7.2 seconds\n",
      "n_probes=132: 7.0 seconds\n",
      "n_probes=128: 6.82 seconds\n",
      "n_probes=124: 6.63 seconds\n",
      "n_probes=120: 6.39 seconds\n",
      "n_probes=116: 6.19 seconds\n",
      "n_probes=112: 6.03 seconds\n",
      "n_probes=108: 5.83 seconds\n",
      "n_probes=104: 5.71 seconds\n",
      "n_probes=100: 5.49 seconds\n",
      "n_probes=96: 5.26 seconds\n",
      "n_probes=92: 5.07 seconds\n",
      "n_probes=88: 4.84 seconds\n",
      "n_probes=84: 4.62 seconds\n",
      "n_probes=80: 4.42 seconds\n",
      "n_probes=76: 4.22 seconds\n",
      "n_probes=72: 3.99 seconds\n",
      "n_probes=68: 3.81 seconds\n",
      "n_probes=64: 3.57 seconds\n",
      "n_probes=60: 3.37 seconds\n",
      "n_probes=56: 3.16 seconds\n",
      "n_probes=52: 2.94 seconds\n",
      "n_probes=48: 2.73 seconds\n",
      "n_probes=44: 2.53 seconds\n",
      "n_probes=40: 2.31 seconds\n",
      "n_probes=36: 2.05 seconds\n",
      "n_probes=32: 1.83 seconds\n",
      "n_probes=28: 1.61 seconds\n",
      "n_probes=24: 1.39 seconds\n",
      "n_probes=20: 1.19 seconds\n",
      "n_probes=16: 0.942 seconds\n",
      "n_probes=12: 0.71 seconds\n",
      "n_probes=8: 0.516 seconds\n",
      "n_probes=4: 0.268 seconds\n"
     ]
    }
   ],
   "source": [
    "max_n_probes = index_2048.n_centroids\n",
    "\n",
    "times_2048 = np.empty(max_n_probes//4)\n",
    "avg_recall_pct_2048 = np.empty(max_n_probes//4)\n",
    "avg_dist_2048 = np.empty(max_n_probes//4)\n",
    "\n",
    "for n_probes in range(max_n_probes, 0, -4):\n",
    "    start = time.time()\n",
    "    dists, inds = index_2048.query(xq_2048, k=k, n_probes=n_probes)\n",
    "    end = time.time()\n",
    "    print(f'n_probes={n_probes}: {end-start:.3} seconds')\n",
    "    \n",
    "    times_2048[n_probes//4 - 1] = end - start\n",
    "    avg_dist_2048[n_probes//4 - 1] = dists.mean()\n",
    "    \n",
    "    recall_pcts = 0\n",
    "    for i in range(len(inds)):\n",
    "        recall_pcts += len(set(inds[i]) & set(inds_2048[i])) / k\n",
    "    \n",
    "    avg_recall_pct_2048[n_probes//4 - 1] = recall_pcts / len(inds)\n"
   ]
  },
  {
   "cell_type": "code",
   "execution_count": 49,
   "metadata": {},
   "outputs": [
    {
     "data": {
      "image/png": "[encoded data removed]",
      "text/plain": [
       "<Figure size 432x288 with 1 Axes>"
      ]
     },
     "metadata": {
      "needs_background": "light"
     },
     "output_type": "display_data"
    }
   ],
   "source": [
    "plt.plot((np.arange(len(times_1024)) + 1) * 4, times_1024[-1] / times_1024, label='1024-D')\n",
    "plt.plot((np.arange(len(times_2048)) + 1) * 4, times_2048[-1] / times_2048, label='2048-D')\n",
    "plt.legend()\n",
    "plt.ylabel('Speedup over full search')\n",
    "plt.xlabel('Number of probes')\n",
    "plt.title('Speedup vs. Number of Probes')\n",
    "plt.show()"
   ]
  },
  {
   "cell_type": "code",
   "execution_count": 45,
   "metadata": {},
   "outputs": [
    {
     "data": {
      "image/png": "[encoded data removed]",
      "text/plain": [
       "<Figure size 432x288 with 1 Axes>"
      ]
     },
     "metadata": {
      "needs_background": "light"
     },
     "output_type": "display_data"
    }
   ],
   "source": [
    "plt.plot(avg_recall_pct_1024, times_1024[-1] / times_1024, label='1024-D')\n",
    "plt.plot(avg_recall_pct_2048, times_2048[-1] / times_2048, label='2048-D')\n",
    "plt.legend()\n",
    "plt.ylabel('Speedup over full search')\n",
    "plt.xlabel('Average recall percentage')\n",
    "plt.title('Speedup vs. Average Recall Percentage')\n",
    "plt.show()"
   ]
  },
  {
   "cell_type": "code",
   "execution_count": 46,
   "metadata": {},
   "outputs": [
    {
     "data": {
      "image/png": "[encoded data removed]",
      "text/plain": [
       "<Figure size 432x288 with 1 Axes>"
      ]
     },
     "metadata": {
      "needs_background": "light"
     },
     "output_type": "display_data"
    }
   ],
   "source": [
    "plt.plot(np.sqrt(avg_dist_1024 / avg_dist_1024[-1]), times_1024[-1] / times_1024, label='1024-D')\n",
    "plt.plot(np.sqrt(avg_dist_2048 / avg_dist_2048[-1]), times_2048[-1] / times_2048, label='2048-D')\n",
    "plt.legend()\n",
    "plt.ylabel('Speedup over full search')\n",
    "plt.xlabel('Increase in average distance of results')\n",
    "plt.title('Speedup vs. Percentage Increase of Average Distance')\n",
    "plt.show()"
   ]
  },
  {
   "cell_type": "code",
   "execution_count": 57,
   "metadata": {},
   "outputs": [
    {
     "name": "stdout",
     "output_type": "stream",
     "text": [
      "0.3320941925048828\n"
     ]
    }
   ],
   "source": [
    "start = time.time()\n",
    "dists, inds = index_1024.query(xq_1024[0], k=100, n_probes=512)\n",
    "end = time.time()\n",
    "print(end-start)\n"
   ]
  },
  {
   "cell_type": "code",
   "execution_count": null,
   "metadata": {},
   "outputs": [],
   "source": []
  }
 ],
 "metadata": {
  "kernelspec": {
   "display_name": "Python 3",
   "language": "python",
   "name": "python3"
  },
  "language_info": {
   "codemirror_mode": {
    "name": "ipython",
    "version": 3
   },
   "file_extension": ".py",
   "mimetype": "text/x-python",
   "name": "python",
   "nbconvert_exporter": "python",
   "pygments_lexer": "ipython3",
   "version": "3.8.5"
  }
 },
 "nbformat": 4,
 "nbformat_minor": 4
}
