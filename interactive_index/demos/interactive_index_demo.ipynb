{
 "cells": [
  {
   "cell_type": "markdown",
   "metadata": {},
   "source": [
    "# WIP Disclaimer"
   ]
  },
  {
   "cell_type": "code",
   "execution_count": 1,
   "metadata": {},
   "outputs": [],
   "source": [
    "%load_ext autoreload\n",
    "%autoreload 2\n",
    "\n",
    "import time"
   ]
  },
  {
   "cell_type": "markdown",
   "metadata": {},
   "source": [
    "*Note*: Development and testing was done on a n1-standard-4 (4 vCPUs, 15 GB memory) Google Cloud instance with 1 NVIDIA Tesla K80 GPU."
   ]
  },
  {
   "cell_type": "markdown",
   "metadata": {},
   "source": [
    "## The Basics"
   ]
  },
  {
   "cell_type": "markdown",
   "metadata": {},
   "source": [
    "First, let's generate some sample vectors."
   ]
  },
  {
   "cell_type": "code",
   "execution_count": 2,
   "metadata": {},
   "outputs": [],
   "source": [
    "import numpy as np\n",
    "\n",
    "# 500,000 1,024-dimensional vectors\n",
    "d = 1_024\n",
    "n_vectors = 500_000\n",
    "\n",
    "X = np.random.random((n_vectors, d)).astype('float32')"
   ]
  },
  {
   "cell_type": "code",
   "execution_count": 3,
   "metadata": {},
   "outputs": [],
   "source": [
    "from interactive_index import InteractiveIndex"
   ]
  },
  {
   "cell_type": "markdown",
   "metadata": {},
   "source": [
    "You can configure your index by specifying a config yaml file or by overriding the config defaults with keyword arguments.\n",
    "\n",
    "An example yaml file is provided in the repo, and the defaults can be seen in `config.py`:\n",
    "\n",
    "```python3\n",
    "CONFIG_DEFAULTS = {\n",
    "    'd': 1_024,\n",
    "    'n_centroids': 32,\n",
    "    'n_probes': 4,\n",
    "    'vectors_per_index': 10_000,\n",
    "    'tempdir': '/tmp/',\n",
    "    'use_gpu': True,\n",
    "    'use_float16': True,\n",
    "    'use_float16_quantizer': True,\n",
    "    'use_precomputed_codes': False,\n",
    "    \n",
    "    # Transformation\n",
    "    'transform': None,\n",
    "    'transform_args': None,\n",
    "\n",
    "    # Encoding\n",
    "    'encoding': 'Flat',\n",
    "    'encoding_args': None\n",
    "}\n",
    "```\n",
    "\n",
    "For convenience I will use these defaults and explicitly specify the fields I want to override."
   ]
  },
  {
   "cell_type": "code",
   "execution_count": 5,
   "metadata": {},
   "outputs": [],
   "source": [
    "index = InteractiveIndex(d=d, n_centroids=1_024, vectors_per_index=25_000)"
   ]
  },
  {
   "cell_type": "markdown",
   "metadata": {},
   "source": [
    "The index has been initialized and written to `/tmp/trained.index`, though it knows the clustering layer has not be trained yet."
   ]
  },
  {
   "cell_type": "code",
   "execution_count": 6,
   "metadata": {},
   "outputs": [
    {
     "data": {
      "text/plain": [
       "False"
      ]
     },
     "execution_count": 6,
     "metadata": {},
     "output_type": "execute_result"
    }
   ],
   "source": [
    "index.is_trained"
   ]
  },
  {
   "cell_type": "markdown",
   "metadata": {},
   "source": [
    "### Training"
   ]
  },
  {
   "cell_type": "markdown",
   "metadata": {},
   "source": [
    "The first thing that needs to be done now is to train the clustering algorithm (in order to define the centroids used when adding vectors).\n",
    "\n",
    "It's an open question of how to best do this, but you just want a training set that is representative of the full dataset. It is recommended to use at least `39 * n_centroids` training vectors. In this case that would be `39 * 1,024 = 39,936` or around 40,000 points.\n",
    "\n",
    "Training cannot be done incrementally, and vectors cannot be added before training the indexed is trained."
   ]
  },
  {
   "cell_type": "code",
   "execution_count": 7,
   "metadata": {},
   "outputs": [],
   "source": [
    "train_inds = np.random.choice(np.arange(X.shape[0]), 40_000)\n",
    "X_train = X[train_inds]"
   ]
  },
  {
   "cell_type": "code",
   "execution_count": 8,
   "metadata": {
    "scrolled": true
   },
   "outputs": [
    {
     "name": "stdout",
     "output_type": "stream",
     "text": [
      "Training took 2.39 seconds\n"
     ]
    }
   ],
   "source": [
    "start = time.time()\n",
    "index.train(X_train)\n",
    "end = time.time()\n",
    "print(f'Training took {end - start:.3} seconds')"
   ]
  },
  {
   "cell_type": "markdown",
   "metadata": {},
   "source": [
    "### Adding"
   ]
  },
  {
   "cell_type": "markdown",
   "metadata": {},
   "source": [
    "Now we can add vectors altogether or in batches."
   ]
  },
  {
   "cell_type": "code",
   "execution_count": 9,
   "metadata": {},
   "outputs": [
    {
     "name": "stdout",
     "output_type": "stream",
     "text": [
      "# partial indexes: 0, # total vectors: 0\n",
      "Adding 25,000 vectors took 0.871 seconds\n",
      "# partial indexes: 1, # total vectors: 25000\n",
      "Adding 25,000 vectors took 0.874 seconds\n",
      "# partial indexes: 2, # total vectors: 50000\n",
      "Adding 25,000 vectors took 0.798 seconds\n",
      "# partial indexes: 3, # total vectors: 75000\n",
      "Adding 25,000 vectors took 0.822 seconds\n",
      "# partial indexes: 4, # total vectors: 100000\n",
      "Adding 25,000 vectors took 0.814 seconds\n",
      "# partial indexes: 5, # total vectors: 125000\n",
      "Adding 25,000 vectors took 0.81 seconds\n",
      "# partial indexes: 6, # total vectors: 150000\n",
      "Adding 25,000 vectors took 0.803 seconds\n",
      "# partial indexes: 7, # total vectors: 175000\n",
      "Adding 25,000 vectors took 0.805 seconds\n",
      "# partial indexes: 8, # total vectors: 200000\n",
      "Adding 25,000 vectors took 0.467 seconds\n",
      "# partial indexes: 9, # total vectors: 225000\n",
      "Adding 25,000 vectors took 0.467 seconds\n",
      "# partial indexes: 10, # total vectors: 250000\n",
      "Adding 25,000 vectors took 0.465 seconds\n",
      "# partial indexes: 11, # total vectors: 275000\n",
      "Adding 25,000 vectors took 0.471 seconds\n",
      "# partial indexes: 12, # total vectors: 300000\n",
      "Adding 25,000 vectors took 0.473 seconds\n",
      "# partial indexes: 13, # total vectors: 325000\n",
      "Adding 25,000 vectors took 0.479 seconds\n",
      "# partial indexes: 14, # total vectors: 350000\n",
      "Adding 25,000 vectors took 0.476 seconds\n",
      "# partial indexes: 15, # total vectors: 375000\n",
      "Adding 25,000 vectors took 0.476 seconds\n",
      "# partial indexes: 16, # total vectors: 400000\n",
      "Adding 25,000 vectors took 0.473 seconds\n",
      "# partial indexes: 17, # total vectors: 425000\n",
      "Adding 25,000 vectors took 0.474 seconds\n",
      "# partial indexes: 18, # total vectors: 450000\n",
      "Adding 25,000 vectors took 0.468 seconds\n",
      "# partial indexes: 19, # total vectors: 475000\n",
      "Adding 25,000 vectors took 0.471 seconds\n",
      "# partial indexes: 20, # total vectors: 500000\n"
     ]
    }
   ],
   "source": [
    "print(f'# partial indexes: {index.n_indexes}, # total vectors: {index.n_vectors}')\n",
    "\n",
    "# Say we get them 10,000 at a time\n",
    "batch_size = 25_000\n",
    "for i in range(0, n_vectors, batch_size):\n",
    "    start = time.time()\n",
    "    index.add(X[i:i + batch_size])\n",
    "    end = time.time()\n",
    "    print(f'Adding 25,000 vectors took {end - start:.3} seconds')\n",
    "    print(f'# partial indexes: {index.n_indexes}, # total vectors: {index.n_vectors}')"
   ]
  },
  {
   "cell_type": "markdown",
   "metadata": {},
   "source": [
    "The add times have a good bit of variance, and though I have some hypotheses, I am not certain what accounts for all of it. I explore the times in more depth later in this file."
   ]
  },
  {
   "cell_type": "markdown",
   "metadata": {},
   "source": [
    "For `train()`, `add()`, or `query()` you can also pass in a file name for the source vectors that is the output of `np.ndarray.tofile()`."
   ]
  },
  {
   "cell_type": "markdown",
   "metadata": {},
   "source": [
    "### Merging"
   ]
  },
  {
   "cell_type": "markdown",
   "metadata": {},
   "source": [
    "Before querying, you need to merge the partial indexes. This can be done incrementally, so if you can merge again after adding more vectors."
   ]
  },
  {
   "cell_type": "code",
   "execution_count": 10,
   "metadata": {},
   "outputs": [
    {
     "name": "stdout",
     "output_type": "stream",
     "text": [
      "Merging 20 indexes took 2.43 seconds\n"
     ]
    }
   ],
   "source": [
    "start = time.time()\n",
    "index.merge_partial_indexes()\n",
    "end = time.time()\n",
    "print(f'Merging {index.n_indexes} indexes took {end - start:.3} seconds')"
   ]
  },
  {
   "cell_type": "markdown",
   "metadata": {},
   "source": [
    "The merged data for this index was 1.91 GB."
   ]
  },
  {
   "cell_type": "markdown",
   "metadata": {},
   "source": [
    "### Querying"
   ]
  },
  {
   "cell_type": "markdown",
   "metadata": {},
   "source": [
    "In order to query you simply pass in your query template vector, list of vectors, or file name containing either, the number of results you want, and optionally the number of clusters you want to probe, which will override the setting from the config for this call only."
   ]
  },
  {
   "cell_type": "code",
   "execution_count": 11,
   "metadata": {},
   "outputs": [],
   "source": [
    "xq = np.random.random(d).astype('float32')"
   ]
  },
  {
   "cell_type": "code",
   "execution_count": 12,
   "metadata": {},
   "outputs": [
    {
     "name": "stdout",
     "output_type": "stream",
     "text": [
      "Querying 50 neighbors took 0.0668 seconds\n",
      "[[143.56714 146.48721 148.57648 149.133   149.20522 149.29927 149.41249\n",
      "  149.57698 149.57904 149.73349 149.9116  149.9194  150.18794 150.51785\n",
      "  150.855   150.96259 151.0063  151.25485 151.31705 151.35455 151.41133\n",
      "  151.68216 151.7627  151.89145 151.94998 151.95447 152.0358  152.1112\n",
      "  152.11159 152.18768 152.41693 152.51703 152.5299  152.59009 152.60391\n",
      "  152.60693 152.64178 152.69919 152.70947 152.75543 152.78625 152.84143\n",
      "  152.89627 152.96805 153.1636  153.17975 153.18666 153.22882 153.23654\n",
      "  153.29716]]\n",
      "[[280647 373567 400199 213979 180785 103039 152939 155279 283513 123265\n",
      "  310511 473007 224772 178337 279908 338158 412549 154197 180398 240354\n",
      "  333034 322706  93687  63479 197788  40173 396707 347887 414200 379242\n",
      "  412375  40176 336495  83355  42790  30880 302787 429216 193239 226971\n",
      "   93983 147031 477798  29252 261898 464635 438889 415900 390836 153605]]\n"
     ]
    }
   ],
   "source": [
    "k = 50\n",
    "\n",
    "start = time.time()\n",
    "dists, inds = index.query(xq, k, n_probes=4)\n",
    "end = time.time()\n",
    "print(f'Querying {k} neighbors took {end - start:.3} seconds')\n",
    "\n",
    "print(dists)\n",
    "print(inds)"
   ]
  },
  {
   "cell_type": "markdown",
   "metadata": {},
   "source": [
    "## Performance Analysis"
   ]
  },
  {
   "cell_type": "markdown",
   "metadata": {},
   "source": [
    "### Training"
   ]
  },
  {
   "cell_type": "markdown",
   "metadata": {},
   "source": [
    "The first step we want to analyze is training, with respect to the following variables:\n",
    "- CPU vs. GPU\n",
    "- Number of training points\n",
    "- Number of dimensions\n",
    "- Number of centroids\n",
    "- Using PQ encoding of different sizes"
   ]
  },
  {
   "cell_type": "code",
   "execution_count": 8,
   "metadata": {},
   "outputs": [],
   "source": [
    "import time\n",
    "import numpy as np\n",
    "import matplotlib.pyplot as plt\n",
    "from interactive_index import InteractiveIndex"
   ]
  },
  {
   "cell_type": "code",
   "execution_count": 7,
   "metadata": {},
   "outputs": [
    {
     "name": "stdout",
     "output_type": "stream",
     "text": [
      "5000: 1.32 seconds\n",
      "10000: 0.741 seconds\n",
      "25000: 1.35 seconds\n",
      "50000: 2.28 seconds\n",
      "100000: 4.03 seconds\n",
      "250000: 9.57 seconds\n",
      "500000: 12.3 seconds\n",
      "5000: 8.07 seconds\n",
      "10000: 15.9 seconds\n",
      "25000: 39.7 seconds\n",
      "50000: 79.1 seconds\n",
      "100000: 1.58e+02 seconds\n",
      "250000: 3.95e+02 seconds\n",
      "500000: 4.17e+02 seconds\n"
     ]
    }
   ],
   "source": [
    "d = 1_024\n",
    "X_train = np.random.random((500_000, d)).astype('float32')\n",
    "\n",
    "n_train_sizes = [5_000, 10_000, 25_000, 50_000, 100_000, 250_000, 500_000]\n",
    "n_train_times = [[], []]\n",
    "for use_gpu in [1, 0]:\n",
    "    for n_train in n_train_sizes:\n",
    "        index = InteractiveIndex(d=d, n_centroids=1_024, use_gpu=bool(use_gpu))\n",
    "        start = time.time()\n",
    "        index.train(X_train[:n_train])\n",
    "        end = time.time()\n",
    "        print(f'{n_train}: {end - start:.3} seconds')\n",
    "        n_train_times[use_gpu].append(end - start)"
   ]
  },
  {
   "cell_type": "code",
   "execution_count": 46,
   "metadata": {},
   "outputs": [
    {
     "data": {
      "image/png": "[encoded data removed]",
      "text/plain": [
       "<Figure size 432x288 with 1 Axes>"
      ]
     },
     "metadata": {
      "needs_background": "light"
     },
     "output_type": "display_data"
    },
    {
     "data": {
      "image/png": "[encoded data removed]",
      "text/plain": [
       "<Figure size 432x288 with 1 Axes>"
      ]
     },
     "metadata": {
      "needs_background": "light"
     },
     "output_type": "display_data"
    },
    {
     "name": "stdout",
     "output_type": "stream",
     "text": [
      "coefs: -4.400850378494866e-11 4.5962506253576e-05 0.38373546965489647\n"
     ]
    }
   ],
   "source": [
    "plt.scatter(n_train_sizes, n_train_times[0], label='cpu')\n",
    "plt.scatter(n_train_sizes, n_train_times[1], label='gpu')\n",
    "plt.ylabel('seconds')\n",
    "plt.xlabel('training vectors')\n",
    "plt.legend()\n",
    "plt.show()\n",
    "\n",
    "plt.scatter(n_train_sizes, n_train_times[1], label='gpu')\n",
    "a1, b1, c1 = np.polyfit(n_train_sizes, n_train_times[1], deg=2)\n",
    "plt.plot(np.arange(n_train_sizes[-1]), c1 + np.arange(n_train_sizes[-1]) * b1 + np.arange(n_train_sizes[-1])**2 * a1 , label='gpu fit')\n",
    "plt.ylabel('seconds')\n",
    "plt.xlabel('training vectors')\n",
    "plt.legend()\n",
    "plt.show()\n",
    "print('coefs:', a1, b1, c1)"
   ]
  },
  {
   "cell_type": "code",
   "execution_count": 26,
   "metadata": {},
   "outputs": [
    {
     "name": "stdout",
     "output_type": "stream",
     "text": [
      "128: 0.558 seconds\n",
      "256: 0.798 seconds\n",
      "512: 1.26 seconds\n",
      "1024: 2.29 seconds\n",
      "2048: 4.02 seconds\n",
      "4096: 7.95 seconds\n"
     ]
    }
   ],
   "source": [
    "n_train = 50_000\n",
    "d_sizes = [128, 256, 512, 1_024, 2_048, 4_096]\n",
    "d_times = []\n",
    "for d in d_sizes:\n",
    "    X_train = np.random.random((n_train, d)).astype('float32')\n",
    "    index = InteractiveIndex(d=d, n_centroids=1_024, use_gpu=True)\n",
    "    start = time.time()\n",
    "    index.train(X_train)\n",
    "    end = time.time()\n",
    "    print(f'{d}: {end - start:.3} seconds')\n",
    "    d_times.append(end - start)"
   ]
  },
  {
   "cell_type": "code",
   "execution_count": 47,
   "metadata": {},
   "outputs": [
    {
     "data": {
      "image/png": "[encoded data removed]",
      "text/plain": [
       "<Figure size 432x288 with 1 Axes>"
      ]
     },
     "metadata": {
      "needs_background": "light"
     },
     "output_type": "display_data"
    },
    {
     "name": "stdout",
     "output_type": "stream",
     "text": [
      "coefs: 0.0018549600871598877 0.3187148903139787\n"
     ]
    }
   ],
   "source": [
    "plt.scatter(d_sizes, d_times, label='real')\n",
    "a1, b1 = np.polyfit(d_sizes, d_times, deg=1)\n",
    "plt.plot(np.arange(d_sizes[-1]), b1 + a1 * np.arange(d_sizes[-1]), label='fit')\n",
    "plt.ylabel('seconds')\n",
    "plt.xlabel('dimensions')\n",
    "plt.legend()\n",
    "plt.show()\n",
    "print('coefs:', a1, b1)"
   ]
  },
  {
   "cell_type": "code",
   "execution_count": 32,
   "metadata": {},
   "outputs": [
    {
     "name": "stdout",
     "output_type": "stream",
     "text": [
      "16: 0.574 seconds\n",
      "32: 0.693 seconds\n",
      "64: 0.896 seconds\n",
      "128: 1.37 seconds\n",
      "256: 1.76 seconds\n",
      "512: 1.94 seconds\n",
      "1024: 2.32 seconds\n",
      "2048: 3.07 seconds\n",
      "4096: 4.65 seconds\n"
     ]
    }
   ],
   "source": [
    "n_train = 50_000\n",
    "d = 1_024\n",
    "n_centroids_sizes = [16, 32, 64, 128, 256, 512, 1_024, 2_048, 4_096]\n",
    "n_centroids_times = []\n",
    "for n_centroids in n_centroids_sizes:\n",
    "    X_train = np.random.random((n_train, d)).astype('float32')\n",
    "    index = InteractiveIndex(d=d, n_centroids=n_centroids, use_gpu=True)\n",
    "    start = time.time()\n",
    "    index.train(X_train)\n",
    "    end = time.time()\n",
    "    print(f'{n_centroids}: {end - start:.3} seconds')\n",
    "    n_centroids_times.append(end - start)"
   ]
  },
  {
   "cell_type": "code",
   "execution_count": 48,
   "metadata": {},
   "outputs": [
    {
     "data": {
      "image/png": "[encoded data removed]",
      "text/plain": [
       "<Figure size 432x288 with 1 Axes>"
      ]
     },
     "metadata": {
      "needs_background": "light"
     },
     "output_type": "display_data"
    },
    {
     "name": "stdout",
     "output_type": "stream",
     "text": [
      "coefs: 0.0009182352600960944 1.085731888559542\n"
     ]
    }
   ],
   "source": [
    "plt.scatter(n_centroids_sizes, n_centroids_times, label='real')\n",
    "a1, b1 = np.polyfit(n_centroids_sizes, n_centroids_times, deg=1)\n",
    "plt.plot(np.arange(n_centroids_sizes[-1]), b1 + a1 * np.arange(n_centroids_sizes[-1]), label='fit')\n",
    "plt.ylabel('seconds')\n",
    "plt.xlabel('centroids')\n",
    "plt.legend()\n",
    "plt.show()\n",
    "print('coefs:', a1, b1)"
   ]
  },
  {
   "cell_type": "markdown",
   "metadata": {},
   "source": [
    "### Adding\n",
    "\n",
    "Relevent variables:\n",
    "- Number of vectors being added\n",
    "- Number of dimensions\n",
    "- Number of centroids\n",
    "- Using PQ encoding of different sizes"
   ]
  },
  {
   "cell_type": "markdown",
   "metadata": {},
   "source": [
    "### Querying\n",
    "\n",
    "- Number of query vectors\n",
    "- Number of dimensions\n",
    "- Number of probes\n",
    "- Using PQ encoding of different sizes"
   ]
  }
 ],
 "metadata": {
  "kernelspec": {
   "display_name": "Python 3",
   "language": "python",
   "name": "python3"
  },
  "language_info": {
   "codemirror_mode": {
    "name": "ipython",
    "version": 3
   },
   "file_extension": ".py",
   "mimetype": "text/x-python",
   "name": "python",
   "nbconvert_exporter": "python",
   "pygments_lexer": "ipython3",
   "version": "3.7.9"
  }
 },
 "nbformat": 4,
 "nbformat_minor": 4
}
