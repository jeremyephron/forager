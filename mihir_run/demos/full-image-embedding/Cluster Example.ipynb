{
 "cells": [
  {
   "cell_type": "code",
   "execution_count": 134,
   "metadata": {},
   "outputs": [
    {
     "name": "stdout",
     "output_type": "stream",
     "text": [
      "The autoreload extension is already loaded. To reload it, use:\n",
      "  %reload_ext autoreload\n"
     ]
    }
   ],
   "source": [
    "%load_ext autoreload"
   ]
  },
  {
   "cell_type": "code",
   "execution_count": 135,
   "metadata": {},
   "outputs": [],
   "source": [
    "%autoreload\n",
    "from knn.clusters import GKECluster"
   ]
  },
  {
   "cell_type": "code",
   "execution_count": 136,
   "metadata": {},
   "outputs": [],
   "source": [
    "GCP_PROJECT = \"visualdb-1046\"\n",
    "GCP_ZONE = \"us-central1-a\"\n",
    "GCP_MACHINE_TYPE = \"n2-highcpu-2\"\n",
    "NUM_NODES = 20"
   ]
  },
  {
   "cell_type": "code",
   "execution_count": 137,
   "metadata": {},
   "outputs": [],
   "source": [
    "cluster = GKECluster(GCP_PROJECT, GCP_ZONE, GCP_MACHINE_TYPE, NUM_NODES)"
   ]
  },
  {
   "cell_type": "code",
   "execution_count": 139,
   "metadata": {},
   "outputs": [
    {
     "name": "stdout",
     "output_type": "stream",
     "text": [
      "Started Kubernetes cluster b0168745-4d7b-4030-a2b6-51d713722c85 at 35.223.171.15\n"
     ]
    }
   ],
   "source": [
    "await cluster.start()"
   ]
  },
  {
   "cell_type": "code",
   "execution_count": 140,
   "metadata": {},
   "outputs": [],
   "source": [
    "MAPPER_CONTAINER = \"gcr.io/visualdb-1046/mihir-demo-full-image-embedding\"\n",
    "NUM_REPLICAS = NUM_NODES"
   ]
  },
  {
   "cell_type": "code",
   "execution_count": 141,
   "metadata": {},
   "outputs": [
    {
     "name": "stdout",
     "output_type": "stream",
     "text": [
      "Started deployment dep-7f083f2c-9e62-45ee-be02-619b1a39415b at https://35.226.58.23:5000\n"
     ]
    }
   ],
   "source": [
    "dep_id, _ = await cluster.create_deployment(MAPPER_CONTAINER, NUM_REPLICAS)"
   ]
  },
  {
   "cell_type": "code",
   "execution_count": 142,
   "metadata": {},
   "outputs": [],
   "source": [
    "await cluster.delete_deployment(dep_id)"
   ]
  },
  {
   "cell_type": "code",
   "execution_count": 143,
   "metadata": {},
   "outputs": [],
   "source": [
    "await cluster.stop()"
   ]
  }
 ],
 "metadata": {
  "kernelspec": {
   "display_name": "Python 3",
   "language": "python",
   "name": "python3"
  },
  "language_info": {
   "codemirror_mode": {
    "name": "ipython",
    "version": 3
   },
   "file_extension": ".py",
   "mimetype": "text/x-python",
   "name": "python",
   "nbconvert_exporter": "python",
   "pygments_lexer": "ipython3",
   "version": "3.8.5"
  }
 },
 "nbformat": 4,
 "nbformat_minor": 4
}
